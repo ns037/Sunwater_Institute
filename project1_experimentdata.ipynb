{
 "cells": [
  {
   "cell_type": "markdown",
   "metadata": {},
   "source": []
  },
  {
   "cell_type": "code",
   "execution_count": 12,
   "metadata": {},
   "outputs": [],
   "source": [
    "import pandas as pd\n",
    "import matplotlib.pyplot as plt"
   ]
  },
  {
   "cell_type": "markdown",
   "metadata": {},
   "source": [
    "download the data from the link in new_variables_WVSw7"
   ]
  },
  {
   "cell_type": "code",
   "execution_count": 13,
   "metadata": {},
   "outputs": [
    {
     "name": "stderr",
     "output_type": "stream",
     "text": [
      "/var/folders/h1/_0238p116qdc782gkpb3sd000000gp/T/ipykernel_1139/960192223.py:1: DtypeWarning: Columns (345,347,349,574,575,576) have mixed types. Specify dtype option on import or set low_memory=False.\n",
      "  data = pd.read_csv('/Users/Nischal/Documents/sunwater/WVS_Cross-National_Wave_7_csv_v5_0.csv')\n"
     ]
    },
    {
     "data": {
      "text/html": [
       "<div>\n",
       "<style scoped>\n",
       "    .dataframe tbody tr th:only-of-type {\n",
       "        vertical-align: middle;\n",
       "    }\n",
       "\n",
       "    .dataframe tbody tr th {\n",
       "        vertical-align: top;\n",
       "    }\n",
       "\n",
       "    .dataframe thead th {\n",
       "        text-align: right;\n",
       "    }\n",
       "</style>\n",
       "<table border=\"1\" class=\"dataframe\">\n",
       "  <thead>\n",
       "    <tr style=\"text-align: right;\">\n",
       "      <th></th>\n",
       "      <th>version</th>\n",
       "      <th>doi</th>\n",
       "      <th>A_WAVE</th>\n",
       "      <th>A_YEAR</th>\n",
       "      <th>A_STUDY</th>\n",
       "      <th>B_COUNTRY</th>\n",
       "      <th>B_COUNTRY_ALPHA</th>\n",
       "      <th>C_COW_NUM</th>\n",
       "      <th>C_COW_ALPHA</th>\n",
       "      <th>D_INTERVIEW</th>\n",
       "      <th>...</th>\n",
       "      <th>WVS_Polmistrust_PartyVoter</th>\n",
       "      <th>WVS_LR_MedianVoter</th>\n",
       "      <th>WVS_LibCon_MedianVoter</th>\n",
       "      <th>v2psbars</th>\n",
       "      <th>v2psorgs</th>\n",
       "      <th>v2psprbrch</th>\n",
       "      <th>v2psprlnks</th>\n",
       "      <th>v2psplats</th>\n",
       "      <th>v2xnp_client</th>\n",
       "      <th>v2xps_party</th>\n",
       "    </tr>\n",
       "  </thead>\n",
       "  <tbody>\n",
       "    <tr>\n",
       "      <th>0</th>\n",
       "      <td>5-0-0 (2022-12-23)</td>\n",
       "      <td>doi.org/10.14281/18241.20</td>\n",
       "      <td>7</td>\n",
       "      <td>2018</td>\n",
       "      <td>2</td>\n",
       "      <td>20</td>\n",
       "      <td>AND</td>\n",
       "      <td>232</td>\n",
       "      <td>AND</td>\n",
       "      <td>20070001</td>\n",
       "      <td>...</td>\n",
       "      <td>62.434211</td>\n",
       "      <td>-999.0</td>\n",
       "      <td>-999.0</td>\n",
       "      <td>-999.0</td>\n",
       "      <td>-999.0</td>\n",
       "      <td>-999.0</td>\n",
       "      <td>-999.0</td>\n",
       "      <td>-999.0</td>\n",
       "      <td>-999.0</td>\n",
       "      <td>-999.0</td>\n",
       "    </tr>\n",
       "    <tr>\n",
       "      <th>1</th>\n",
       "      <td>5-0-0 (2022-12-23)</td>\n",
       "      <td>doi.org/10.14281/18241.20</td>\n",
       "      <td>7</td>\n",
       "      <td>2018</td>\n",
       "      <td>2</td>\n",
       "      <td>20</td>\n",
       "      <td>AND</td>\n",
       "      <td>232</td>\n",
       "      <td>AND</td>\n",
       "      <td>20070002</td>\n",
       "      <td>...</td>\n",
       "      <td>62.434211</td>\n",
       "      <td>-999.0</td>\n",
       "      <td>-999.0</td>\n",
       "      <td>-999.0</td>\n",
       "      <td>-999.0</td>\n",
       "      <td>-999.0</td>\n",
       "      <td>-999.0</td>\n",
       "      <td>-999.0</td>\n",
       "      <td>-999.0</td>\n",
       "      <td>-999.0</td>\n",
       "    </tr>\n",
       "    <tr>\n",
       "      <th>2</th>\n",
       "      <td>5-0-0 (2022-12-23)</td>\n",
       "      <td>doi.org/10.14281/18241.20</td>\n",
       "      <td>7</td>\n",
       "      <td>2018</td>\n",
       "      <td>2</td>\n",
       "      <td>20</td>\n",
       "      <td>AND</td>\n",
       "      <td>232</td>\n",
       "      <td>AND</td>\n",
       "      <td>20070003</td>\n",
       "      <td>...</td>\n",
       "      <td>62.434211</td>\n",
       "      <td>-999.0</td>\n",
       "      <td>-999.0</td>\n",
       "      <td>-999.0</td>\n",
       "      <td>-999.0</td>\n",
       "      <td>-999.0</td>\n",
       "      <td>-999.0</td>\n",
       "      <td>-999.0</td>\n",
       "      <td>-999.0</td>\n",
       "      <td>-999.0</td>\n",
       "    </tr>\n",
       "    <tr>\n",
       "      <th>3</th>\n",
       "      <td>5-0-0 (2022-12-23)</td>\n",
       "      <td>doi.org/10.14281/18241.20</td>\n",
       "      <td>7</td>\n",
       "      <td>2018</td>\n",
       "      <td>2</td>\n",
       "      <td>20</td>\n",
       "      <td>AND</td>\n",
       "      <td>232</td>\n",
       "      <td>AND</td>\n",
       "      <td>20070004</td>\n",
       "      <td>...</td>\n",
       "      <td>NaN</td>\n",
       "      <td>NaN</td>\n",
       "      <td>NaN</td>\n",
       "      <td>NaN</td>\n",
       "      <td>NaN</td>\n",
       "      <td>NaN</td>\n",
       "      <td>NaN</td>\n",
       "      <td>NaN</td>\n",
       "      <td>NaN</td>\n",
       "      <td>NaN</td>\n",
       "    </tr>\n",
       "    <tr>\n",
       "      <th>4</th>\n",
       "      <td>5-0-0 (2022-12-23)</td>\n",
       "      <td>doi.org/10.14281/18241.20</td>\n",
       "      <td>7</td>\n",
       "      <td>2018</td>\n",
       "      <td>2</td>\n",
       "      <td>20</td>\n",
       "      <td>AND</td>\n",
       "      <td>232</td>\n",
       "      <td>AND</td>\n",
       "      <td>20070005</td>\n",
       "      <td>...</td>\n",
       "      <td>66.964286</td>\n",
       "      <td>-999.0</td>\n",
       "      <td>-999.0</td>\n",
       "      <td>-999.0</td>\n",
       "      <td>-999.0</td>\n",
       "      <td>-999.0</td>\n",
       "      <td>-999.0</td>\n",
       "      <td>-999.0</td>\n",
       "      <td>-999.0</td>\n",
       "      <td>-999.0</td>\n",
       "    </tr>\n",
       "  </tbody>\n",
       "</table>\n",
       "<p>5 rows × 606 columns</p>\n",
       "</div>"
      ],
      "text/plain": [
       "              version                        doi  A_WAVE  A_YEAR  A_STUDY  \\\n",
       "0  5-0-0 (2022-12-23)  doi.org/10.14281/18241.20       7    2018        2   \n",
       "1  5-0-0 (2022-12-23)  doi.org/10.14281/18241.20       7    2018        2   \n",
       "2  5-0-0 (2022-12-23)  doi.org/10.14281/18241.20       7    2018        2   \n",
       "3  5-0-0 (2022-12-23)  doi.org/10.14281/18241.20       7    2018        2   \n",
       "4  5-0-0 (2022-12-23)  doi.org/10.14281/18241.20       7    2018        2   \n",
       "\n",
       "   B_COUNTRY B_COUNTRY_ALPHA  C_COW_NUM C_COW_ALPHA  D_INTERVIEW  ...  \\\n",
       "0         20             AND        232         AND     20070001  ...   \n",
       "1         20             AND        232         AND     20070002  ...   \n",
       "2         20             AND        232         AND     20070003  ...   \n",
       "3         20             AND        232         AND     20070004  ...   \n",
       "4         20             AND        232         AND     20070005  ...   \n",
       "\n",
       "   WVS_Polmistrust_PartyVoter  WVS_LR_MedianVoter  WVS_LibCon_MedianVoter  \\\n",
       "0                   62.434211              -999.0                  -999.0   \n",
       "1                   62.434211              -999.0                  -999.0   \n",
       "2                   62.434211              -999.0                  -999.0   \n",
       "3                         NaN                 NaN                     NaN   \n",
       "4                   66.964286              -999.0                  -999.0   \n",
       "\n",
       "   v2psbars  v2psorgs  v2psprbrch  v2psprlnks  v2psplats  v2xnp_client  \\\n",
       "0    -999.0    -999.0      -999.0      -999.0     -999.0        -999.0   \n",
       "1    -999.0    -999.0      -999.0      -999.0     -999.0        -999.0   \n",
       "2    -999.0    -999.0      -999.0      -999.0     -999.0        -999.0   \n",
       "3       NaN       NaN         NaN         NaN        NaN           NaN   \n",
       "4    -999.0    -999.0      -999.0      -999.0     -999.0        -999.0   \n",
       "\n",
       "   v2xps_party  \n",
       "0       -999.0  \n",
       "1       -999.0  \n",
       "2       -999.0  \n",
       "3          NaN  \n",
       "4       -999.0  \n",
       "\n",
       "[5 rows x 606 columns]"
      ]
     },
     "execution_count": 13,
     "metadata": {},
     "output_type": "execute_result"
    }
   ],
   "source": [
    "data = pd.read_csv('/Users/Nischal/Documents/sunwater/WVS_Cross-National_Wave_7_csv_v5_0.csv')\n",
    "#page 109 and 110 might have variables we could possibly use \n",
    "# but keep in mind these seem to be backward looking variables\n",
    "data.head()"
   ]
  },
  {
   "cell_type": "code",
   "execution_count": 14,
   "metadata": {},
   "outputs": [
    {
     "data": {
      "text/plain": [
       "<bound method DataFrame.info of                   version                        doi  A_WAVE  A_YEAR  A_STUDY  \\\n",
       "0      5-0-0 (2022-12-23)  doi.org/10.14281/18241.20       7    2018        2   \n",
       "1      5-0-0 (2022-12-23)  doi.org/10.14281/18241.20       7    2018        2   \n",
       "2      5-0-0 (2022-12-23)  doi.org/10.14281/18241.20       7    2018        2   \n",
       "3      5-0-0 (2022-12-23)  doi.org/10.14281/18241.20       7    2018        2   \n",
       "4      5-0-0 (2022-12-23)  doi.org/10.14281/18241.20       7    2018        2   \n",
       "...                   ...                        ...     ...     ...      ...   \n",
       "94273  5-0-0 (2022-12-23)  doi.org/10.14281/18241.20       7    2022        2   \n",
       "94274  5-0-0 (2022-12-23)  doi.org/10.14281/18241.20       7    2022        2   \n",
       "94275  5-0-0 (2022-12-23)  doi.org/10.14281/18241.20       7    2022        2   \n",
       "94276  5-0-0 (2022-12-23)  doi.org/10.14281/18241.20       7    2022        2   \n",
       "94277  5-0-0 (2022-12-23)  doi.org/10.14281/18241.20       7    2022        2   \n",
       "\n",
       "       B_COUNTRY B_COUNTRY_ALPHA  C_COW_NUM C_COW_ALPHA  D_INTERVIEW  ...  \\\n",
       "0             20             AND        232         AND     20070001  ...   \n",
       "1             20             AND        232         AND     20070002  ...   \n",
       "2             20             AND        232         AND     20070003  ...   \n",
       "3             20             AND        232         AND     20070004  ...   \n",
       "4             20             AND        232         AND     20070005  ...   \n",
       "...          ...             ...        ...         ...          ...  ...   \n",
       "94273        909             NIR        202        NIRL    909070443  ...   \n",
       "94274        909             NIR        202        NIRL    909070444  ...   \n",
       "94275        909             NIR        202        NIRL    909070445  ...   \n",
       "94276        909             NIR        202        NIRL    909070446  ...   \n",
       "94277        909             NIR        202        NIRL    909070447  ...   \n",
       "\n",
       "       WVS_Polmistrust_PartyVoter  WVS_LR_MedianVoter  WVS_LibCon_MedianVoter  \\\n",
       "0                       62.434211              -999.0                  -999.0   \n",
       "1                       62.434211              -999.0                  -999.0   \n",
       "2                       62.434211              -999.0                  -999.0   \n",
       "3                             NaN                 NaN                     NaN   \n",
       "4                       66.964286              -999.0                  -999.0   \n",
       "...                           ...                 ...                     ...   \n",
       "94273                         NaN                 NaN                     NaN   \n",
       "94274                         NaN                 NaN                     NaN   \n",
       "94275                         NaN                 NaN                     NaN   \n",
       "94276                         NaN                 NaN                     NaN   \n",
       "94277                         NaN                 NaN                     NaN   \n",
       "\n",
       "       v2psbars  v2psorgs  v2psprbrch  v2psprlnks  v2psplats  v2xnp_client  \\\n",
       "0        -999.0    -999.0      -999.0      -999.0     -999.0        -999.0   \n",
       "1        -999.0    -999.0      -999.0      -999.0     -999.0        -999.0   \n",
       "2        -999.0    -999.0      -999.0      -999.0     -999.0        -999.0   \n",
       "3           NaN       NaN         NaN         NaN        NaN           NaN   \n",
       "4        -999.0    -999.0      -999.0      -999.0     -999.0        -999.0   \n",
       "...         ...       ...         ...         ...        ...           ...   \n",
       "94273       NaN       NaN         NaN         NaN        NaN           NaN   \n",
       "94274       NaN       NaN         NaN         NaN        NaN           NaN   \n",
       "94275       NaN       NaN         NaN         NaN        NaN           NaN   \n",
       "94276       NaN       NaN         NaN         NaN        NaN           NaN   \n",
       "94277       NaN       NaN         NaN         NaN        NaN           NaN   \n",
       "\n",
       "       v2xps_party  \n",
       "0           -999.0  \n",
       "1           -999.0  \n",
       "2           -999.0  \n",
       "3              NaN  \n",
       "4           -999.0  \n",
       "...            ...  \n",
       "94273          NaN  \n",
       "94274          NaN  \n",
       "94275          NaN  \n",
       "94276          NaN  \n",
       "94277          NaN  \n",
       "\n",
       "[94278 rows x 606 columns]>"
      ]
     },
     "execution_count": 14,
     "metadata": {},
     "output_type": "execute_result"
    }
   ],
   "source": [
    "data.info"
   ]
  },
  {
   "cell_type": "code",
   "execution_count": 15,
   "metadata": {},
   "outputs": [
    {
     "name": "stdout",
     "output_type": "stream",
     "text": [
      "(94278, 606)\n",
      "(94278,)\n",
      "missing values\n",
      "0\n"
     ]
    }
   ],
   "source": [
    "#number of total observations\n",
    "print(data.shape)\n",
    "#checking missing values for country names\n",
    "print(data.B_COUNTRY_ALPHA.shape)\n",
    "print(\"missing values\")\n",
    "missing_values = data['B_COUNTRY_ALPHA'].isna().sum()\n",
    "print(missing_values)\n"
   ]
  },
  {
   "cell_type": "code",
   "execution_count": 16,
   "metadata": {},
   "outputs": [
    {
     "name": "stdout",
     "output_type": "stream",
     "text": [
      "   B_COUNTRY_ALPHA  Observations\n",
      "0              AND          1004\n",
      "1              ARG          1003\n",
      "2              ARM          1223\n",
      "3              AUS          1813\n",
      "4              BGD          1200\n",
      "..             ...           ...\n",
      "59             URY          1000\n",
      "60             USA          2596\n",
      "61             VEN          1190\n",
      "62             VNM          1200\n",
      "63             ZWE          1215\n",
      "\n",
      "[64 rows x 2 columns]\n"
     ]
    }
   ],
   "source": [
    "# Group by 'B_COUNTRY_ALPHA' column and count the observations\n",
    "country_counts = data.groupby('B_COUNTRY_ALPHA').size().reset_index(name='Observations')\n",
    "\n",
    "# 'country_counts' now contains the number of observations per country name\n",
    "print(country_counts)"
   ]
  },
  {
   "cell_type": "code",
   "execution_count": 17,
   "metadata": {},
   "outputs": [
    {
     "data": {
      "text/plain": [
       "2018    1004\n",
       "Name: A_YEAR, dtype: int64"
      ]
     },
     "execution_count": 17,
     "metadata": {},
     "output_type": "execute_result"
    }
   ],
   "source": [
    "\n",
    "#check if all the observations for \"AND\" are from the same year\n",
    "data[data.B_COUNTRY_ALPHA == \"AND\"].A_YEAR.value_counts()"
   ]
  },
  {
   "cell_type": "code",
   "execution_count": 18,
   "metadata": {},
   "outputs": [
    {
     "name": "stdout",
     "output_type": "stream",
     "text": [
      "   B_COUNTRY_ALPHA  A_YEAR  Observations\n",
      "0              AND    2018          1004\n",
      "1              ARG    2017          1003\n",
      "2              ARM    2021          1223\n",
      "3              AUS    2018          1813\n",
      "4              BGD    2018          1200\n",
      "..             ...     ...           ...\n",
      "59             URY    2022          1000\n",
      "60             USA    2017          2596\n",
      "61             VEN    2021          1190\n",
      "62             VNM    2020          1200\n",
      "63             ZWE    2020          1215\n",
      "\n",
      "[64 rows x 3 columns]\n"
     ]
    }
   ],
   "source": [
    "#check if all the observations for a particular country are from the same year\n",
    "#  Group by 'B_COUNTRY_ALPHA' and 'A_year' column and count the observations\n",
    "country_counts = data.groupby(['B_COUNTRY_ALPHA','A_YEAR']).size().reset_index(name='Observations')\n",
    "\n",
    "# 'country_counts' now contains the number of observations per country name and year\n",
    "print(country_counts)"
   ]
  },
  {
   "cell_type": "code",
   "execution_count": 19,
   "metadata": {},
   "outputs": [
    {
     "data": {
      "text/plain": [
       "64"
      ]
     },
     "execution_count": 19,
     "metadata": {},
     "output_type": "execute_result"
    }
   ],
   "source": [
    "#look for any repetiions: to check if a singl country has two different years\n",
    "len(set(country_counts.B_COUNTRY_ALPHA))"
   ]
  },
  {
   "cell_type": "code",
   "execution_count": 20,
   "metadata": {},
   "outputs": [
    {
     "data": {
      "text/plain": [
       "0       -9999.0\n",
       "1       -9999.0\n",
       "2       -9999.0\n",
       "3       -9999.0\n",
       "4       -9999.0\n",
       "          ...  \n",
       "94273       NaN\n",
       "94274       NaN\n",
       "94275       NaN\n",
       "94276       NaN\n",
       "94277       NaN\n",
       "Name: v2cafres, Length: 94278, dtype: float64"
      ]
     },
     "execution_count": 20,
     "metadata": {},
     "output_type": "execute_result"
    }
   ],
   "source": [
    "data['v2cafres']"
   ]
  },
  {
   "cell_type": "markdown",
   "metadata": {},
   "source": [
    "*Start at pg-198 and look at other categories as well. Also group division by country of birth could be useful*"
   ]
  },
  {
   "cell_type": "markdown",
   "metadata": {},
   "source": [
    "**Q196** Government has the right: Keep people under video surveillance in public areas (WVS - 7)\n",
    "\n",
    "Do you think this country’s government should or should not have the right to do the\n",
    "following: Keep people under video surveillance in public areas  \n",
    "1.- Definitely should have the right  \n",
    "2.- Probably should have the right  \n",
    "3.- Probably should not have the right   \n",
    "4.- Definitely should not have the right   \n",
    "-1-.- Don ́t know  \n",
    "-2-.- No answer  \n",
    "-4-.- Not asked  \n",
    "-5-.- Missing; Not available  "
   ]
  },
  {
   "cell_type": "code",
   "execution_count": 21,
   "metadata": {},
   "outputs": [
    {
     "data": {
      "text/plain": [
       "count    94278.000000\n",
       "mean         2.124536\n",
       "std          1.402286\n",
       "min         -5.000000\n",
       "25%          1.000000\n",
       "50%          2.000000\n",
       "75%          3.000000\n",
       "max          4.000000\n",
       "Name: Q196, dtype: float64"
      ]
     },
     "execution_count": 21,
     "metadata": {},
     "output_type": "execute_result"
    }
   ],
   "source": [
    "data['Q196'].describe()"
   ]
  },
  {
   "cell_type": "code",
   "execution_count": 22,
   "metadata": {},
   "outputs": [
    {
     "name": "stdout",
     "output_type": "stream",
     "text": [
      "<class 'pandas.core.frame.DataFrame'>\n",
      "RangeIndex: 94278 entries, 0 to 94277\n",
      "Data columns (total 2 columns):\n",
      " #   Column           Non-Null Count  Dtype \n",
      "---  ------           --------------  ----- \n",
      " 0   B_COUNTRY_ALPHA  94278 non-null  object\n",
      " 1   Q196             94278 non-null  int64 \n",
      "dtypes: int64(1), object(1)\n",
      "memory usage: 1.4+ MB\n"
     ]
    }
   ],
   "source": [
    "# country_Q192 = pd.DataFrame(index = [data['B_COUNTRY_ALPHA'],data['Q196']])\n",
    "country_Q196 = data[['B_COUNTRY_ALPHA','Q196']]\n",
    "country_Q196.info()"
   ]
  },
  {
   "cell_type": "code",
   "execution_count": 23,
   "metadata": {},
   "outputs": [
    {
     "data": {
      "text/html": [
       "<div>\n",
       "<style scoped>\n",
       "    .dataframe tbody tr th:only-of-type {\n",
       "        vertical-align: middle;\n",
       "    }\n",
       "\n",
       "    .dataframe tbody tr th {\n",
       "        vertical-align: top;\n",
       "    }\n",
       "\n",
       "    .dataframe thead th {\n",
       "        text-align: right;\n",
       "    }\n",
       "</style>\n",
       "<table border=\"1\" class=\"dataframe\">\n",
       "  <thead>\n",
       "    <tr style=\"text-align: right;\">\n",
       "      <th></th>\n",
       "      <th>Q196</th>\n",
       "    </tr>\n",
       "  </thead>\n",
       "  <tbody>\n",
       "    <tr>\n",
       "      <th>count</th>\n",
       "      <td>91006.000000</td>\n",
       "    </tr>\n",
       "    <tr>\n",
       "      <th>mean</th>\n",
       "      <td>2.286706</td>\n",
       "    </tr>\n",
       "    <tr>\n",
       "      <th>std</th>\n",
       "      <td>1.095833</td>\n",
       "    </tr>\n",
       "    <tr>\n",
       "      <th>min</th>\n",
       "      <td>1.000000</td>\n",
       "    </tr>\n",
       "    <tr>\n",
       "      <th>25%</th>\n",
       "      <td>1.000000</td>\n",
       "    </tr>\n",
       "    <tr>\n",
       "      <th>50%</th>\n",
       "      <td>2.000000</td>\n",
       "    </tr>\n",
       "    <tr>\n",
       "      <th>75%</th>\n",
       "      <td>3.000000</td>\n",
       "    </tr>\n",
       "    <tr>\n",
       "      <th>max</th>\n",
       "      <td>4.000000</td>\n",
       "    </tr>\n",
       "  </tbody>\n",
       "</table>\n",
       "</div>"
      ],
      "text/plain": [
       "               Q196\n",
       "count  91006.000000\n",
       "mean       2.286706\n",
       "std        1.095833\n",
       "min        1.000000\n",
       "25%        1.000000\n",
       "50%        2.000000\n",
       "75%        3.000000\n",
       "max        4.000000"
      ]
     },
     "execution_count": 23,
     "metadata": {},
     "output_type": "execute_result"
    }
   ],
   "source": [
    "#removing all missing answers\n",
    "country_Q196 = country_Q196[country_Q196.Q196 > 0]\n",
    "country_Q196.describe()"
   ]
  },
  {
   "cell_type": "code",
   "execution_count": 24,
   "metadata": {},
   "outputs": [
    {
     "data": {
      "text/plain": [
       "B_COUNTRY_ALPHA  Q196\n",
       "AND              1       349\n",
       "                 2       276\n",
       "                 4       236\n",
       "                 3       142\n",
       "ARG              4       316\n",
       "                        ... \n",
       "VNM              1       175\n",
       "ZWE              4       671\n",
       "                 1       254\n",
       "                 2       171\n",
       "                 3       106\n",
       "Length: 252, dtype: int64"
      ]
     },
     "execution_count": 24,
     "metadata": {},
     "output_type": "execute_result"
    }
   ],
   "source": [
    "groupings = country_Q196.groupby('B_COUNTRY_ALPHA').value_counts()\n",
    "groupings"
   ]
  },
  {
   "cell_type": "code",
   "execution_count": 25,
   "metadata": {},
   "outputs": [
    {
     "name": "stdout",
     "output_type": "stream",
     "text": [
      "Int64Index([1, 2, 4, 3], dtype='int64', name='Q196')\n",
      "1003\n"
     ]
    },
    {
     "data": {
      "text/plain": [
       "Int64Index([349, 552, 944, 426], dtype='int64', name='Q196')"
      ]
     },
     "execution_count": 25,
     "metadata": {},
     "output_type": "execute_result"
    }
   ],
   "source": [
    "print(groupings.AND.index)\n",
    "print(groupings.AND.values.sum())\n",
    "groupings.AND.index*groupings.AND.values"
   ]
  },
  {
   "cell_type": "code",
   "execution_count": 26,
   "metadata": {},
   "outputs": [
    {
     "name": "stdout",
     "output_type": "stream",
     "text": [
      "   B_COUNTRY_ALPHA      Q196  Normalized_Q196\n",
      "0              AND  2.264207         0.495984\n",
      "1              ARG  2.633403         0.710563\n",
      "2              ARM  2.658537         0.725170\n",
      "3              AUS  1.801556         0.227090\n",
      "4              BGD  1.580071         0.098362\n",
      "..             ...       ...              ...\n",
      "58             URY  2.339506         0.539748\n",
      "59             USA  2.215953         0.467939\n",
      "60             VEN  2.770588         0.790295\n",
      "61             VNM  2.621667         0.703741\n",
      "62             ZWE  2.993344         0.919762\n",
      "\n",
      "[63 rows x 3 columns]\n"
     ]
    }
   ],
   "source": [
    "grouped = country_Q196.groupby('B_COUNTRY_ALPHA')['Q196'].mean().reset_index()\n",
    "\n",
    "# Normalize 'Q196' within each country\n",
    "grouped['Normalized_Q196'] = (grouped['Q196'] - grouped['Q196'].min()) / (grouped['Q196'].max() - grouped['Q196'].min())\n",
    "\n",
    "# Display the result\n",
    "print(grouped)\n"
   ]
  },
  {
   "cell_type": "markdown",
   "metadata": {},
   "source": [
    "The manual mean calculation for AND and group by() both agree with each other"
   ]
  },
  {
   "cell_type": "code",
   "execution_count": 27,
   "metadata": {},
   "outputs": [
    {
     "data": {
      "text/plain": [
       "count    63.000000\n",
       "mean      0.517758\n",
       "std       0.230219\n",
       "min       0.000000\n",
       "25%       0.349410\n",
       "50%       0.495984\n",
       "75%       0.693392\n",
       "max       1.000000\n",
       "Name: Normalized_Q196, dtype: float64"
      ]
     },
     "execution_count": 27,
     "metadata": {},
     "output_type": "execute_result"
    }
   ],
   "source": [
    "grouped.Normalized_Q196.describe()"
   ]
  },
  {
   "cell_type": "code",
   "execution_count": 28,
   "metadata": {},
   "outputs": [
    {
     "data": {
      "image/png": "[encoded data removed]",
      "text/plain": [
       "<Figure size 640x480 with 1 Axes>"
      ]
     },
     "metadata": {},
     "output_type": "display_data"
    }
   ],
   "source": [
    "plt.hist(grouped['Normalized_Q196'], bins=10, edgecolor='black', alpha=0.7)\n",
    "plt.title('Distribution of Normalized Q196')\n",
    "plt.xlabel('Normalized Q196 Values')\n",
    "plt.ylabel('Frequency')\n",
    "plt.grid(axis='y', linestyle='--', alpha=0.7)\n",
    "plt.show()"
   ]
  },
  {
   "cell_type": "code",
   "execution_count": 29,
   "metadata": {},
   "outputs": [],
   "source": [
    "\n",
    "#just pass the country list here to specify the countries you want to look at\n",
    "# countries_included = ['AND','USA']\n",
    "# grouped = grouped[grouped.B_COUNTRY_ALPHA.isin(countries_included)]\n",
    "# print(grouped)\n",
    "\n",
    "# plt.scatter(data = grouped,x ='B_COUNTRY_ALPHA', y = 'Normalized_Q196')\n",
    "# plt.show()"
   ]
  },
  {
   "cell_type": "markdown",
   "metadata": {},
   "source": [
    "**Please ignore the graph above**"
   ]
  },
  {
   "cell_type": "markdown",
   "metadata": {},
   "source": [
    "**Q197**  \n",
    "Do you think this country’s government should or should not have the right to do the following: Monitor all emails and any other information exchanged on the Internet  \n",
    "1.- Definitely should have the right  \n",
    "2.- Probably should have the right  \n",
    "3.- Probably should not have the right   \n",
    "4.- Definitely should not have the right   \n",
    "-1-.- Don ́t know  \n",
    "-2-.- No answer  \n",
    "-4-.- Not asked  \n",
    "-5-.- Missing; Not available  "
   ]
  },
  {
   "cell_type": "code",
   "execution_count": 30,
   "metadata": {},
   "outputs": [
    {
     "name": "stdout",
     "output_type": "stream",
     "text": [
      "<class 'pandas.core.frame.DataFrame'>\n",
      "RangeIndex: 94278 entries, 0 to 94277\n",
      "Data columns (total 2 columns):\n",
      " #   Column           Non-Null Count  Dtype \n",
      "---  ------           --------------  ----- \n",
      " 0   B_COUNTRY_ALPHA  94278 non-null  object\n",
      " 1   Q197             94278 non-null  int64 \n",
      "dtypes: int64(1), object(1)\n",
      "memory usage: 1.4+ MB\n"
     ]
    }
   ],
   "source": [
    "# follow the same steps as that for Q196\n",
    "country_Q197 = data[['B_COUNTRY_ALPHA','Q197']]\n",
    "country_Q197.info()"
   ]
  },
  {
   "cell_type": "code",
   "execution_count": 31,
   "metadata": {},
   "outputs": [
    {
     "data": {
      "text/html": [
       "<div>\n",
       "<style scoped>\n",
       "    .dataframe tbody tr th:only-of-type {\n",
       "        vertical-align: middle;\n",
       "    }\n",
       "\n",
       "    .dataframe tbody tr th {\n",
       "        vertical-align: top;\n",
       "    }\n",
       "\n",
       "    .dataframe thead th {\n",
       "        text-align: right;\n",
       "    }\n",
       "</style>\n",
       "<table border=\"1\" class=\"dataframe\">\n",
       "  <thead>\n",
       "    <tr style=\"text-align: right;\">\n",
       "      <th></th>\n",
       "      <th>Q197</th>\n",
       "    </tr>\n",
       "  </thead>\n",
       "  <tbody>\n",
       "    <tr>\n",
       "      <th>count</th>\n",
       "      <td>94278.000000</td>\n",
       "    </tr>\n",
       "    <tr>\n",
       "      <th>mean</th>\n",
       "      <td>2.698021</td>\n",
       "    </tr>\n",
       "    <tr>\n",
       "      <th>std</th>\n",
       "      <td>1.492178</td>\n",
       "    </tr>\n",
       "    <tr>\n",
       "      <th>min</th>\n",
       "      <td>-5.000000</td>\n",
       "    </tr>\n",
       "    <tr>\n",
       "      <th>25%</th>\n",
       "      <td>2.000000</td>\n",
       "    </tr>\n",
       "    <tr>\n",
       "      <th>50%</th>\n",
       "      <td>3.000000</td>\n",
       "    </tr>\n",
       "    <tr>\n",
       "      <th>75%</th>\n",
       "      <td>4.000000</td>\n",
       "    </tr>\n",
       "    <tr>\n",
       "      <th>max</th>\n",
       "      <td>4.000000</td>\n",
       "    </tr>\n",
       "  </tbody>\n",
       "</table>\n",
       "</div>"
      ],
      "text/plain": [
       "               Q197\n",
       "count  94278.000000\n",
       "mean       2.698021\n",
       "std        1.492178\n",
       "min       -5.000000\n",
       "25%        2.000000\n",
       "50%        3.000000\n",
       "75%        4.000000\n",
       "max        4.000000"
      ]
     },
     "execution_count": 31,
     "metadata": {},
     "output_type": "execute_result"
    }
   ],
   "source": [
    "country_Q197.describe()"
   ]
  },
  {
   "cell_type": "code",
   "execution_count": 32,
   "metadata": {},
   "outputs": [
    {
     "data": {
      "text/html": [
       "<div>\n",
       "<style scoped>\n",
       "    .dataframe tbody tr th:only-of-type {\n",
       "        vertical-align: middle;\n",
       "    }\n",
       "\n",
       "    .dataframe tbody tr th {\n",
       "        vertical-align: top;\n",
       "    }\n",
       "\n",
       "    .dataframe thead th {\n",
       "        text-align: right;\n",
       "    }\n",
       "</style>\n",
       "<table border=\"1\" class=\"dataframe\">\n",
       "  <thead>\n",
       "    <tr style=\"text-align: right;\">\n",
       "      <th></th>\n",
       "      <th>Q197</th>\n",
       "    </tr>\n",
       "  </thead>\n",
       "  <tbody>\n",
       "    <tr>\n",
       "      <th>count</th>\n",
       "      <td>90203.000000</td>\n",
       "    </tr>\n",
       "    <tr>\n",
       "      <th>mean</th>\n",
       "      <td>2.916921</td>\n",
       "    </tr>\n",
       "    <tr>\n",
       "      <th>std</th>\n",
       "      <td>1.060462</td>\n",
       "    </tr>\n",
       "    <tr>\n",
       "      <th>min</th>\n",
       "      <td>1.000000</td>\n",
       "    </tr>\n",
       "    <tr>\n",
       "      <th>25%</th>\n",
       "      <td>2.000000</td>\n",
       "    </tr>\n",
       "    <tr>\n",
       "      <th>50%</th>\n",
       "      <td>3.000000</td>\n",
       "    </tr>\n",
       "    <tr>\n",
       "      <th>75%</th>\n",
       "      <td>4.000000</td>\n",
       "    </tr>\n",
       "    <tr>\n",
       "      <th>max</th>\n",
       "      <td>4.000000</td>\n",
       "    </tr>\n",
       "  </tbody>\n",
       "</table>\n",
       "</div>"
      ],
      "text/plain": [
       "               Q197\n",
       "count  90203.000000\n",
       "mean       2.916921\n",
       "std        1.060462\n",
       "min        1.000000\n",
       "25%        2.000000\n",
       "50%        3.000000\n",
       "75%        4.000000\n",
       "max        4.000000"
      ]
     },
     "execution_count": 32,
     "metadata": {},
     "output_type": "execute_result"
    }
   ],
   "source": [
    "country_Q197 = country_Q197[country_Q197.Q197 > 0]\n",
    "country_Q197.describe()"
   ]
  },
  {
   "cell_type": "code",
   "execution_count": 33,
   "metadata": {},
   "outputs": [
    {
     "name": "stdout",
     "output_type": "stream",
     "text": [
      "   B_COUNTRY_ALPHA      Q197  Normalized_Q197\n",
      "0              AND  3.588645         1.000000\n",
      "1              ARG  3.184567         0.794133\n",
      "2              ARM  2.930676         0.664782\n",
      "3              AUS  2.909649         0.654069\n",
      "4              BGD  2.166994         0.275707\n",
      "..             ...       ...              ...\n",
      "58             URY  3.377184         0.892266\n",
      "59             USA  3.169863         0.786642\n",
      "60             VEN  3.400000         0.903890\n",
      "61             VNM  3.320000         0.863132\n",
      "62             ZWE  3.160967         0.782110\n",
      "\n",
      "[63 rows x 3 columns]\n"
     ]
    }
   ],
   "source": [
    "grouped197 = country_Q197.groupby('B_COUNTRY_ALPHA')['Q197'].mean().reset_index()\n",
    "\n",
    "# Normalize 'Q196' within each country\n",
    "grouped197['Normalized_Q197'] = (grouped197['Q197'] - grouped197['Q197'].min()) / (grouped197['Q197'].max() - grouped197['Q197'].min())\n",
    "\n",
    "# Display the result\n",
    "print(grouped197)"
   ]
  },
  {
   "cell_type": "code",
   "execution_count": 34,
   "metadata": {},
   "outputs": [
    {
     "data": {
      "text/plain": [
       "count    63.000000\n",
       "mean      0.664336\n",
       "std       0.219032\n",
       "min       0.000000\n",
       "25%       0.577606\n",
       "50%       0.700101\n",
       "75%       0.820516\n",
       "max       1.000000\n",
       "Name: Normalized_Q197, dtype: float64"
      ]
     },
     "execution_count": 34,
     "metadata": {},
     "output_type": "execute_result"
    }
   ],
   "source": [
    "grouped197.Normalized_Q197.describe()"
   ]
  },
  {
   "cell_type": "code",
   "execution_count": 35,
   "metadata": {},
   "outputs": [
    {
     "data": {
      "image/png": "[encoded data removed]",
      "text/plain": [
       "<Figure size 640x480 with 1 Axes>"
      ]
     },
     "metadata": {},
     "output_type": "display_data"
    }
   ],
   "source": [
    "plt.hist(grouped197['Normalized_Q197'], bins=10, edgecolor='black', alpha=0.7)\n",
    "plt.title('Distribution of Normalized Q197')\n",
    "plt.xlabel('Normalized Q197 Values')\n",
    "plt.ylabel('Frequency')\n",
    "plt.grid(axis='y', linestyle='--', alpha=0.7)\n",
    "plt.show()"
   ]
  },
  {
   "cell_type": "markdown",
   "metadata": {},
   "source": [
    "**Q188**\n",
    "Please tell me for each of the following statements whether you think it can always be justified, never be justified, or something in between, using this card.  \n",
    "Euthanasia  \n",
    "1.- Never justifiable  \n",
    "2.- 2  \n",
    "3.- 3  \n",
    "4.- 4  \n",
    "5.- 5  \n",
    "6.- 6  \n",
    "7.- 7  \n",
    "8.- 8  \n",
    "9.- 9  \n",
    "10.- Always justifiable   \n",
    "-1-.- Don ́t know  \n",
    "-2-.- No answer  \n",
    "-4-.- Not asked in survey -5-.- Missing; Not available  "
   ]
  },
  {
   "cell_type": "code",
   "execution_count": 36,
   "metadata": {},
   "outputs": [
    {
     "name": "stdout",
     "output_type": "stream",
     "text": [
      "<class 'pandas.core.frame.DataFrame'>\n",
      "RangeIndex: 94278 entries, 0 to 94277\n",
      "Data columns (total 2 columns):\n",
      " #   Column           Non-Null Count  Dtype \n",
      "---  ------           --------------  ----- \n",
      " 0   B_COUNTRY_ALPHA  94278 non-null  object\n",
      " 1   Q188             94278 non-null  int64 \n",
      "dtypes: int64(1), object(1)\n",
      "memory usage: 1.4+ MB\n"
     ]
    }
   ],
   "source": [
    "country_Q188 = data[['B_COUNTRY_ALPHA','Q188']]\n",
    "country_Q188.info()"
   ]
  },
  {
   "cell_type": "code",
   "execution_count": 37,
   "metadata": {},
   "outputs": [
    {
     "name": "stdout",
     "output_type": "stream",
     "text": [
      "               Q188\n",
      "count  90497.000000\n",
      "mean       3.915124\n",
      "std        3.181090\n",
      "min        1.000000\n",
      "25%        1.000000\n",
      "50%        3.000000\n",
      "75%        6.000000\n",
      "max       10.000000\n"
     ]
    }
   ],
   "source": [
    "country_Q188 = country_Q188[country_Q188.Q188 > 0]\n",
    "print(country_Q188.describe())"
   ]
  },
  {
   "cell_type": "code",
   "execution_count": 38,
   "metadata": {},
   "outputs": [
    {
     "name": "stdout",
     "output_type": "stream",
     "text": [
      "   B_COUNTRY_ALPHA      Q188  Normalized_Q188\n",
      "0              AND  6.186304         0.783438\n",
      "1              ARG  3.857635         0.416871\n",
      "2              ARM  2.460493         0.196940\n",
      "3              AUS  6.688776         0.862535\n",
      "4              BGD  2.777500         0.246841\n",
      "..             ...       ...              ...\n",
      "59             URY  5.467942         0.670357\n",
      "60             USA  5.384315         0.657193\n",
      "61             VEN  3.332198         0.334159\n",
      "62             VNM  4.883333         0.578331\n",
      "63             ZWE  1.887510         0.106744\n",
      "\n",
      "[64 rows x 3 columns]\n"
     ]
    }
   ],
   "source": [
    "grouped188 = country_Q188.groupby('B_COUNTRY_ALPHA')['Q188'].mean().reset_index()\n",
    "\n",
    "# Normalize 'Q188' within each country\n",
    "grouped188['Normalized_Q188'] = (grouped188['Q188'] - grouped188['Q188'].min()) / (grouped188['Q188'].max() - grouped188['Q188'].min())\n",
    "\n",
    "# Display the result\n",
    "print(grouped188)"
   ]
  },
  {
   "cell_type": "code",
   "execution_count": 39,
   "metadata": {},
   "outputs": [
    {
     "data": {
      "text/plain": [
       "count    64.000000\n",
       "mean      0.404551\n",
       "std       0.259052\n",
       "min       0.000000\n",
       "25%       0.194461\n",
       "50%       0.377705\n",
       "75%       0.554771\n",
       "max       1.000000\n",
       "Name: Normalized_Q188, dtype: float64"
      ]
     },
     "execution_count": 39,
     "metadata": {},
     "output_type": "execute_result"
    }
   ],
   "source": [
    "grouped188.Normalized_Q188.describe()"
   ]
  },
  {
   "cell_type": "code",
   "execution_count": 40,
   "metadata": {},
   "outputs": [
    {
     "data": {
      "image/png": "[encoded data removed]",
      "text/plain": [
       "<Figure size 640x480 with 1 Axes>"
      ]
     },
     "metadata": {},
     "output_type": "display_data"
    }
   ],
   "source": [
    "plt.hist(grouped188['Normalized_Q188'], bins=10, edgecolor='black', alpha=0.7)\n",
    "plt.title('Distribution of Normalized Q188')\n",
    "plt.xlabel('Normalized Q188 Values')\n",
    "plt.ylabel('Frequency')\n",
    "plt.grid(axis='y', linestyle='--', alpha=0.7)\n",
    "plt.show()"
   ]
  },
  {
   "cell_type": "markdown",
   "metadata": {},
   "source": [
    "**Q30 - University is more important for a boy than for a girl**  \n",
    "For each of the following statements I read out, can you tell me how much you agree with each. Do you agree strongly, agree, disagree, or disagree strongly? - A university education is more important for a boy than for a girl  \n",
    "1.- Agree strongly 2.- Agree  \n",
    "3.- Disagree  \n",
    "4.- Strongly disagree   \n",
    "-1-.- Don ́t know  \n",
    "2-.- No answer  \n",
    "-4-.- Not asked  \n",
    "-5-.- Missing; Not available  "
   ]
  },
  {
   "cell_type": "code",
   "execution_count": 41,
   "metadata": {},
   "outputs": [
    {
     "data": {
      "text/plain": [
       "count    64.000000\n",
       "mean      0.557748\n",
       "std       0.235925\n",
       "min       0.000000\n",
       "25%       0.427241\n",
       "50%       0.544920\n",
       "75%       0.701035\n",
       "max       1.000000\n",
       "Name: Normalized_Q30, dtype: float64"
      ]
     },
     "execution_count": 41,
     "metadata": {},
     "output_type": "execute_result"
    }
   ],
   "source": [
    "country_Q30 = data[['B_COUNTRY_ALPHA','Q30']]\n",
    "country_Q30 = country_Q30[country_Q30.Q30 > 0]\n",
    "grouped30 = country_Q30.groupby('B_COUNTRY_ALPHA')['Q30'].mean().reset_index()\n",
    "\n",
    "# Normalize 'Q30' within each country\n",
    "grouped30['Normalized_Q30'] = (grouped30['Q30'] - grouped30['Q30'].min()) / (grouped30['Q30'].max() - grouped30['Q30'].min())\n",
    "grouped30.Normalized_Q30.describe()"
   ]
  },
  {
   "cell_type": "code",
   "execution_count": 42,
   "metadata": {},
   "outputs": [
    {
     "data": {
      "image/png": "[encoded data removed]",
      "text/plain": [
       "<Figure size 640x480 with 1 Axes>"
      ]
     },
     "metadata": {},
     "output_type": "display_data"
    }
   ],
   "source": [
    "plt.hist(grouped30['Normalized_Q30'], bins=10, edgecolor='black', alpha=0.7)\n",
    "plt.title('Distribution of Normalized Q188')\n",
    "plt.xlabel('Normalized Q30 Values')\n",
    "plt.ylabel('Frequency')\n",
    "plt.grid(axis='y', linestyle='--', alpha=0.7)\n",
    "plt.show()"
   ]
  },
  {
   "cell_type": "code",
   "execution_count": 43,
   "metadata": {},
   "outputs": [
    {
     "data": {
      "text/html": [
       "<div>\n",
       "<style scoped>\n",
       "    .dataframe tbody tr th:only-of-type {\n",
       "        vertical-align: middle;\n",
       "    }\n",
       "\n",
       "    .dataframe tbody tr th {\n",
       "        vertical-align: top;\n",
       "    }\n",
       "\n",
       "    .dataframe thead th {\n",
       "        text-align: right;\n",
       "    }\n",
       "</style>\n",
       "<table border=\"1\" class=\"dataframe\">\n",
       "  <thead>\n",
       "    <tr style=\"text-align: right;\">\n",
       "      <th></th>\n",
       "      <th>B_COUNTRY_ALPHA</th>\n",
       "      <th>Q30</th>\n",
       "      <th>Normalized_Q30</th>\n",
       "      <th>Q188</th>\n",
       "      <th>Normalized_Q188</th>\n",
       "      <th>Q197</th>\n",
       "      <th>Normalized_Q197</th>\n",
       "    </tr>\n",
       "  </thead>\n",
       "  <tbody>\n",
       "    <tr>\n",
       "      <th>0</th>\n",
       "      <td>AND</td>\n",
       "      <td>3.552448</td>\n",
       "      <td>0.936109</td>\n",
       "      <td>6.186304</td>\n",
       "      <td>0.783438</td>\n",
       "      <td>3.588645</td>\n",
       "      <td>1.000000</td>\n",
       "    </tr>\n",
       "    <tr>\n",
       "      <th>1</th>\n",
       "      <td>ARG</td>\n",
       "      <td>3.253564</td>\n",
       "      <td>0.724148</td>\n",
       "      <td>3.857635</td>\n",
       "      <td>0.416871</td>\n",
       "      <td>3.184567</td>\n",
       "      <td>0.794133</td>\n",
       "    </tr>\n",
       "    <tr>\n",
       "      <th>2</th>\n",
       "      <td>ARM</td>\n",
       "      <td>3.132293</td>\n",
       "      <td>0.638145</td>\n",
       "      <td>2.460493</td>\n",
       "      <td>0.196940</td>\n",
       "      <td>2.930676</td>\n",
       "      <td>0.664782</td>\n",
       "    </tr>\n",
       "    <tr>\n",
       "      <th>3</th>\n",
       "      <td>AUS</td>\n",
       "      <td>3.642539</td>\n",
       "      <td>1.000000</td>\n",
       "      <td>6.688776</td>\n",
       "      <td>0.862535</td>\n",
       "      <td>2.909649</td>\n",
       "      <td>0.654069</td>\n",
       "    </tr>\n",
       "    <tr>\n",
       "      <th>4</th>\n",
       "      <td>BGD</td>\n",
       "      <td>2.573529</td>\n",
       "      <td>0.241884</td>\n",
       "      <td>2.777500</td>\n",
       "      <td>0.246841</td>\n",
       "      <td>2.166994</td>\n",
       "      <td>0.275707</td>\n",
       "    </tr>\n",
       "    <tr>\n",
       "      <th>...</th>\n",
       "      <td>...</td>\n",
       "      <td>...</td>\n",
       "      <td>...</td>\n",
       "      <td>...</td>\n",
       "      <td>...</td>\n",
       "      <td>...</td>\n",
       "      <td>...</td>\n",
       "    </tr>\n",
       "    <tr>\n",
       "      <th>59</th>\n",
       "      <td>URY</td>\n",
       "      <td>3.228632</td>\n",
       "      <td>0.706467</td>\n",
       "      <td>5.467942</td>\n",
       "      <td>0.670357</td>\n",
       "      <td>3.377184</td>\n",
       "      <td>0.892266</td>\n",
       "    </tr>\n",
       "    <tr>\n",
       "      <th>60</th>\n",
       "      <td>USA</td>\n",
       "      <td>3.329466</td>\n",
       "      <td>0.777976</td>\n",
       "      <td>5.384315</td>\n",
       "      <td>0.657193</td>\n",
       "      <td>3.169863</td>\n",
       "      <td>0.786642</td>\n",
       "    </tr>\n",
       "    <tr>\n",
       "      <th>61</th>\n",
       "      <td>VEN</td>\n",
       "      <td>3.074790</td>\n",
       "      <td>0.597366</td>\n",
       "      <td>3.332198</td>\n",
       "      <td>0.334159</td>\n",
       "      <td>3.400000</td>\n",
       "      <td>0.903890</td>\n",
       "    </tr>\n",
       "    <tr>\n",
       "      <th>62</th>\n",
       "      <td>VNM</td>\n",
       "      <td>2.751667</td>\n",
       "      <td>0.368215</td>\n",
       "      <td>4.883333</td>\n",
       "      <td>0.578331</td>\n",
       "      <td>3.320000</td>\n",
       "      <td>0.863132</td>\n",
       "    </tr>\n",
       "    <tr>\n",
       "      <th>63</th>\n",
       "      <td>ZWE</td>\n",
       "      <td>3.182119</td>\n",
       "      <td>0.673481</td>\n",
       "      <td>1.887510</td>\n",
       "      <td>0.106744</td>\n",
       "      <td>3.160967</td>\n",
       "      <td>0.782110</td>\n",
       "    </tr>\n",
       "  </tbody>\n",
       "</table>\n",
       "<p>64 rows × 7 columns</p>\n",
       "</div>"
      ],
      "text/plain": [
       "   B_COUNTRY_ALPHA       Q30  Normalized_Q30      Q188  Normalized_Q188  \\\n",
       "0              AND  3.552448        0.936109  6.186304         0.783438   \n",
       "1              ARG  3.253564        0.724148  3.857635         0.416871   \n",
       "2              ARM  3.132293        0.638145  2.460493         0.196940   \n",
       "3              AUS  3.642539        1.000000  6.688776         0.862535   \n",
       "4              BGD  2.573529        0.241884  2.777500         0.246841   \n",
       "..             ...       ...             ...       ...              ...   \n",
       "59             URY  3.228632        0.706467  5.467942         0.670357   \n",
       "60             USA  3.329466        0.777976  5.384315         0.657193   \n",
       "61             VEN  3.074790        0.597366  3.332198         0.334159   \n",
       "62             VNM  2.751667        0.368215  4.883333         0.578331   \n",
       "63             ZWE  3.182119        0.673481  1.887510         0.106744   \n",
       "\n",
       "        Q197  Normalized_Q197  \n",
       "0   3.588645         1.000000  \n",
       "1   3.184567         0.794133  \n",
       "2   2.930676         0.664782  \n",
       "3   2.909649         0.654069  \n",
       "4   2.166994         0.275707  \n",
       "..       ...              ...  \n",
       "59  3.377184         0.892266  \n",
       "60  3.169863         0.786642  \n",
       "61  3.400000         0.903890  \n",
       "62  3.320000         0.863132  \n",
       "63  3.160967         0.782110  \n",
       "\n",
       "[64 rows x 7 columns]"
      ]
     },
     "execution_count": 43,
     "metadata": {},
     "output_type": "execute_result"
    }
   ],
   "source": [
    "merged_df = grouped30.merge(grouped188, on='B_COUNTRY_ALPHA',how='outer')\n",
    "\n",
    "merged_df = merged_df.merge(grouped197, on='B_COUNTRY_ALPHA',how='outer')\n",
    "\n",
    "merged_df"
   ]
  },
  {
   "cell_type": "code",
   "execution_count": 49,
   "metadata": {},
   "outputs": [
    {
     "data": {
      "text/html": [
       "<div>\n",
       "<style scoped>\n",
       "    .dataframe tbody tr th:only-of-type {\n",
       "        vertical-align: middle;\n",
       "    }\n",
       "\n",
       "    .dataframe tbody tr th {\n",
       "        vertical-align: top;\n",
       "    }\n",
       "\n",
       "    .dataframe thead th {\n",
       "        text-align: right;\n",
       "    }\n",
       "</style>\n",
       "<table border=\"1\" class=\"dataframe\">\n",
       "  <thead>\n",
       "    <tr style=\"text-align: right;\">\n",
       "      <th></th>\n",
       "      <th>B_COUNTRY_ALPHA</th>\n",
       "      <th>Normalized_Q30</th>\n",
       "      <th>Normalized_Q188</th>\n",
       "      <th>Normalized_Q197</th>\n",
       "    </tr>\n",
       "  </thead>\n",
       "  <tbody>\n",
       "    <tr>\n",
       "      <th>15</th>\n",
       "      <td>EGY</td>\n",
       "      <td>0.541923</td>\n",
       "      <td>0.057237</td>\n",
       "      <td>NaN</td>\n",
       "    </tr>\n",
       "  </tbody>\n",
       "</table>\n",
       "</div>"
      ],
      "text/plain": [
       "   B_COUNTRY_ALPHA  Normalized_Q30  Normalized_Q188  Normalized_Q197\n",
       "15             EGY        0.541923         0.057237              NaN"
      ]
     },
     "execution_count": 49,
     "metadata": {},
     "output_type": "execute_result"
    }
   ],
   "source": [
    "merged_df.drop(columns=['Q30','Q188','Q197'],inplace=True)\n",
    "merged_df[merged_df.Normalized_Q197.isna()]"
   ]
  },
  {
   "cell_type": "code",
   "execution_count": null,
   "metadata": {},
   "outputs": [],
   "source": []
  }
 ],
 "metadata": {
  "kernelspec": {
   "display_name": "csci349",
   "language": "python",
   "name": "python3"
  },
  "language_info": {
   "codemirror_mode": {
    "name": "ipython",
    "version": 3
   },
   "file_extension": ".py",
   "mimetype": "text/x-python",
   "name": "python",
   "nbconvert_exporter": "python",
   "pygments_lexer": "ipython3",
   "version": "3.9.16"
  },
  "orig_nbformat": 4
 },
 "nbformat": 4,
 "nbformat_minor": 2
}
