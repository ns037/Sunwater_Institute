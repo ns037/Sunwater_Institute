{
 "cells": [
  {
   "cell_type": "markdown",
   "metadata": {},
   "source": [
    "https://www.worldvaluessurvey.org/WVSNewsShow.jsp?ID=467 cultural map that has data on Survival / Self - expression data. The map is based on the latest joint survey round of the World Values Survey and European Values Study 2017-2022. "
   ]
  }
 ],
 "metadata": {
  "language_info": {
   "name": "python"
  },
  "orig_nbformat": 4
 },
 "nbformat": 4,
 "nbformat_minor": 2
}
